{
  "nbformat": 4,
  "nbformat_minor": 0,
  "metadata": {
    "colab": {
      "provenance": [],
      "authorship_tag": "ABX9TyM87MIhaIoxE67vAD8NE8nz",
      "include_colab_link": true
    },
    "kernelspec": {
      "name": "python3",
      "display_name": "Python 3"
    },
    "language_info": {
      "name": "python"
    }
  },
  "cells": [
    {
      "cell_type": "markdown",
      "metadata": {
        "id": "view-in-github",
        "colab_type": "text"
      },
      "source": [
        "<a href=\"https://colab.research.google.com/github/Arash-Kamboj/Webscraping-Projects-/blob/main/Webscraping_Projects.ipynb\" target=\"_parent\"><img src=\"https://colab.research.google.com/assets/colab-badge.svg\" alt=\"Open In Colab\"/></a>"
      ]
    },
    {
      "cell_type": "markdown",
      "source": [
        "# Project 1\n",
        "\n",
        "**Steps followed:**\n",
        "\n",
        "Step 1: Initiate HTTP requests to the specified URL to acquire the webpage's content. (\"http://www.values.com/inspirational-quotes\")\n",
        "\n",
        "Step 2: Utilising the 'BeautifulSoup' library to parse and comprehend the HTML structure, enabling the extraction of pertinent information.\n",
        "\n",
        "Step 3: Identifying precise HTML components housing the desired quotes, along with relevant themes, images, and authors.\n",
        "\n",
        "Step 4: Extracting and organizing the acquired data into a structured arrangement, employing dictionaries to store information.\n",
        "\n",
        "Step 5: Presenting the compiled collection of quotes, complete with their thematic context, accompanying artwork, and attributed authors, in an aesthetically pleasing digital format.\n",
        "\n",
        "\n",
        "---\n",
        "\n"
      ],
      "metadata": {
        "id": "mMwwPr33kLD2"
      }
    },
    {
      "cell_type": "code",
      "execution_count": 1,
      "metadata": {
        "colab": {
          "base_uri": "https://localhost:8080/"
        },
        "id": "QhXCd05ejjIA",
        "outputId": "7e175604-ace7-4c07-dd14-54bb67cf6893"
      },
      "outputs": [
        {
          "output_type": "stream",
          "name": "stdout",
          "text": [
            "<Response [200]>\n",
            "[{'theme': 'LEADERSHIP', 'url': '/inspirational-quotes/8415-leave-nothing-for-tomorrow-which-can-be-done', 'img': 'https://assets.passiton.com/quotes/quote_artwork/8415/medium/20240219_monday_quote.jpg', 'lines': 'Leave nothing for tomorrow which can be done today.'}, {'theme': 'LOVE', 'url': '/inspirational-quotes/6256-love-and-kindness-are-never-wasted-they-always', 'img': 'https://assets.passiton.com/quotes/quote_artwork/6256/medium/20240216_friday_quote.jpg', 'lines': 'Love and kindness are never wasted. They always make a difference.'}, {'theme': 'LOVE', 'url': '/inspirational-quotes/7444-where-there-is-love-there-is-life', 'img': 'https://assets.passiton.com/quotes/quote_artwork/7444/medium/20240215_thursday_quote.jpg', 'lines': 'Where there is love there is life.'}, {'theme': 'LOVE', 'url': '/inspirational-quotes/7692-you-yourself-as-much-as-anybody-in-the-entire', 'img': 'https://assets.passiton.com/quotes/quote_artwork/7692/medium/20240214_wednesday_quote.jpg', 'lines': 'You yourself, as much as anybody in the entire universe deserve your love and affection.'}, {'theme': 'LOVE', 'url': '/inspirational-quotes/7171-darkness-cannot-drive-out-darkness-only-light', 'img': 'https://assets.passiton.com/quotes/quote_artwork/7171/medium/20240213_tuesday_quote.jpg', 'lines': 'Darkness cannot drive out darkness; only light can do that. Hate cannot drive out hate; only love can do that.'}, {'theme': 'LOVE', 'url': '/inspirational-quotes/6459-we-lose-ourselves-in-the-things-we-love-we', 'img': 'https://assets.passiton.com/quotes/quote_artwork/6459/medium/20240212_monday_quote.jpg', 'lines': 'We lose ourselves in the things we love. We find ourselves there, too.'}, {'theme': 'KINDNESS', 'url': '/inspirational-quotes/6382-ask-yourself-have-you-been-kind-today-make', 'img': 'https://assets.passiton.com/quotes/quote_artwork/6382/medium/20240209_friday_quote.jpg', 'lines': 'Ask yourself: Have you been kind today? Make kindness your modus operandi and change your world. '}, {'theme': 'KINDNESS', 'url': '/inspirational-quotes/8067-you-can-always-always-give-something-even-if', 'img': 'https://assets.passiton.com/quotes/quote_artwork/8067/medium/20240208_thursday_quote.jpg', 'lines': 'You can always, always give something, even if it is only kindness!'}, {'theme': 'KINDNESS', 'url': '/inspirational-quotes/8368-you-can-be-rich-in-spirit-kindness-love-and', 'img': 'https://assets.passiton.com/quotes/quote_artwork/8368/medium/20240207_wednesday_quote.jpg', 'lines': \"You can be rich in spirit, kindness, love and all those things that you can't put a dollar sign on.\"}, {'theme': 'KINDNESS', 'url': '/inspirational-quotes/4471-we-rise-by-lifting-others', 'img': 'https://assets.passiton.com/quotes/quote_artwork/4471/medium/20240206_tuesday_quote.jpg', 'lines': 'We rise by lifting others.'}, {'theme': 'KINDNESS', 'url': '/inspirational-quotes/8349-how-do-we-change-the-world-one-random-act-of', 'img': 'https://assets.passiton.com/quotes/quote_artwork/8349/medium/20240205_monday_quote.jpg', 'lines': 'How do we change the world? One random act of kindness at a time.'}, {'theme': 'ENCOURAGEMENT', 'url': '/inspirational-quotes/4227-inspire-and-bring-joy-to-all-those-you-know', 'img': 'https://assets.passiton.com/quotes/quote_artwork/4227/medium/20240202_friday_quote.jpg', 'lines': 'Inspire and bring joy to all those you know.'}, {'theme': 'ENCOURAGEMENT', 'url': '/inspirational-quotes/7075-our-chief-want-is-someone-who-will-inspire-us', 'img': 'https://assets.passiton.com/quotes/quote_artwork/7075/medium/20240201_thursday_quote.jpg', 'lines': 'Our chief want is someone who will inspire us to be what we know we could be.'}, {'theme': 'ENCOURAGEMENT', 'url': '/inspirational-quotes/3710-promise-yourself-to-be-just-as-enthusiastic', 'img': 'https://assets.passiton.com/quotes/quote_artwork/3710/medium/20240131_wednesday_quote.jpg', 'lines': 'Promise yourself to be just as enthusiastic about the success of others as you are about your own.'}, {'theme': 'ENCOURAGEMENT', 'url': '/inspirational-quotes/3554-those-who-are-lifting-the-world-upward-and', 'img': 'https://assets.passiton.com/quotes/quote_artwork/3554/medium/20240130_tuesday_quote.jpg', 'lines': 'Those who are lifting the world upward and onward are those who encourage more than criticize.'}, {'theme': 'ENCOURAGEMENT', 'url': '/inspirational-quotes/7826-the-world-needs-dreamers-and-the-world-needs', 'img': 'https://assets.passiton.com/quotes/quote_artwork/7826/medium/20240129_monday_quote.jpg', 'lines': 'The world needs dreamers and the world needs doers. But above all, the world needs dreamers who do.'}, {'theme': 'COURAGE', 'url': '/inspirational-quotes/8414-you-ll-never-do-a-whole-lot-unless-you-re-brave', 'img': 'https://assets.passiton.com/quotes/quote_artwork/8414/medium/20240126_friday_quote.jpg', 'lines': 'You’ll never do a whole lot unless you’re brave enough to try.'}, {'theme': 'COURAGE', 'url': '/inspirational-quotes/7862-you-can-choose-courage-or-you-can-choose', 'img': 'https://assets.passiton.com/quotes/quote_artwork/7862/medium/20240125_thursday_quote.jpg', 'lines': 'You can choose courage, or you can choose comfort, but you cannot choose both.'}, {'theme': 'COURAGE', 'url': '/inspirational-quotes/6234-it-takes-courage-for-people-to-listen-to-their', 'img': 'https://assets.passiton.com/quotes/quote_artwork/6234/medium/20240123_tuesday_quote.jpg', 'lines': 'It takes courage for people to listen to their own goodness and act on it. '}, {'theme': 'COURAGE', 'url': '/inspirational-quotes/8251-courage-doesn-t-mean-you-aren-t-afraid-courage', 'img': 'https://assets.passiton.com/quotes/quote_artwork/8251/medium/20240122_monday_quote.jpg', 'lines': 'Courage doesn’t mean you aren’t afraid. Courage means you don’t let fear stop you. '}, {'theme': 'BELIEVE', 'url': '/inspirational-quotes/6817-sometimes-your-only-available-transportation-is', 'img': 'https://assets.passiton.com/quotes/quote_artwork/6817/medium/20240119_friday_quote.jpg', 'lines': 'Sometimes your only available transportation is a leap of faith.'}, {'theme': 'BELIEVE', 'url': '/inspirational-quotes/8412-if-you-believe-you-can-you-probably-can-if', 'img': 'https://assets.passiton.com/quotes/quote_artwork/8412/medium/20240118_thursday_quote.jpg', 'lines': 'If you believe you can, you probably can. If you believe you won’t, you most assuredly won’t. Belief is the ignition switch that gets you off the launching pad.'}, {'theme': 'BELIEVE', 'url': '/inspirational-quotes/8411-faith-is-about-doing-you-are-how-you-act-not', 'img': 'https://assets.passiton.com/quotes/quote_artwork/8411/medium/20240117_wednesday_quote.jpg', 'lines': 'Faith is about doing. You are how you act, not just how you believe.'}, {'theme': 'BELIEVE', 'url': '/inspirational-quotes/8413-i-want-to-suggest-some-of-the-things-that', 'img': 'https://assets.passiton.com/quotes/quote_artwork/8413/medium/20240115_image.jpg', 'lines': \"I want to suggest some of the things that should begin your life's blueprint. Number one...should be a deep belief in your own dignity. Your worth and your own somebodiness... Always feel that you count. Always feel that you have worth, and always feel that your life has ultimate significance.\"}, {'theme': 'BEING THERE', 'url': '/inspirational-quotes/3685-lifes-most-urgent-question-is-what-are-you', 'img': 'https://assets.passiton.com/quotes/quote_artwork/3685/medium/20240112_friday_quote.jpg', 'lines': \"Life's most urgent question is: What are you doing for others?\"}, {'theme': 'BEING THERE', 'url': '/inspirational-quotes/7765-family-means-putting-your-arms-around-each', 'img': 'https://assets.passiton.com/quotes/quote_artwork/7765/medium/20240111_thursday_quote.jpg', 'lines': 'Family means putting your arms around each other and being there.'}, {'theme': 'BEING THERE', 'url': '/inspirational-quotes/7764-be-there-for-others-but-never-leave-yourself', 'img': 'https://assets.passiton.com/quotes/quote_artwork/7764/medium/20240110_wednesday_quote.jpg', 'lines': 'Be there for others, but never leave yourself behind.'}, {'theme': 'BEING THERE', 'url': '/inspirational-quotes/7762-just-being-there-for-someone-can-sometimes', 'img': 'https://assets.passiton.com/quotes/quote_artwork/7762/medium/20240109_tuesday_quote.jpg', 'lines': 'Just being there for someone can sometimes bring hope when all seems hopeless.'}, {'theme': 'BEING THERE', 'url': '/inspirational-quotes/7761-if-you-love-someone-the-greatest-gift-you-can', 'img': 'https://assets.passiton.com/quotes/quote_artwork/7761/medium/20240108_monday_quote.jpg', 'lines': 'If you love someone, the greatest gift you can give them is your presence.'}, {'theme': 'DISCOVERY', 'url': '/inspirational-quotes/8410-there-is-no-greater-journey-than-the-one-that', 'img': 'https://assets.passiton.com/quotes/quote_artwork/8410/medium/20240105_friday_quote.jpg', 'lines': 'There is no greater journey than the one that you must take to discover all of the mysteries that lie within you.'}, {'theme': 'DISCOVERY', 'url': '/inspirational-quotes/7381-discovery-is-seeing-what-everybody-else-has', 'img': 'https://assets.passiton.com/quotes/quote_artwork/7381/medium/20240104_thursday_quote.jpg', 'lines': 'Discovery is seeing what everybody else has seen, and thinking what nobody else has thought.'}, {'theme': 'DISCOVERY', 'url': '/inspirational-quotes/8409-by-mutual-confidence-and-mutual-aid-great-deeds', 'img': 'https://assets.passiton.com/quotes/quote_artwork/8409/medium/20240103_wednesday_quote.jpg', 'lines': 'By mutual confidence and mutual aid great deeds are done, and great discoveries made.'}, {'theme': 'DISCOVERY', 'url': '/inspirational-quotes/8340-there-are-always-new-things-to-find-out-if-you', 'img': 'https://assets.passiton.com/quotes/quote_artwork/8340/medium/20240102_tuesday_quote.jpg', 'lines': 'There are always new things to find out if you go looking for them.'}]\n"
          ]
        }
      ],
      "source": [
        "import requests\n",
        "from bs4 import BeautifulSoup\n",
        "\n",
        "URL = \"http://www.values.com/inspirational-quotes\"\n",
        "r = requests.get(URL)\n",
        "print(r)\n",
        "soup = BeautifulSoup(r.content, 'html.parser') # If\n",
        "soup\n",
        "quotes=[]\n",
        "table = soup.find('div', attrs = {'id':'all_quotes'})\n",
        "table\n",
        "\n",
        "for row in table.findAll('div',\n",
        "                         attrs = {'class':'col-6 col-lg-4 text-center margin-30px-bottom sm-margin-30px-top'}):\n",
        "    quote = {}\n",
        "    quote['theme'] = row.h5.text\n",
        "    quote['url'] = row.a['href']\n",
        "    quote['img'] = row.img['src']\n",
        "    quote['lines'] = row.img['alt'].split(\" #\")[0]\n",
        "    quotes.append(quote)\n",
        "\n",
        "print(quotes)"
      ]
    },
    {
      "cell_type": "markdown",
      "source": [
        "# Project 2\n",
        "\n",
        "\n",
        "**Steps followed:**\n",
        "\n",
        "Step 1: Import the required libraries at the beginning of your Python script and Define the webpage URL you want to scrape. (\"https://en.wikipedia.org/wiki/Main_Page”)\n",
        "\n",
        "Step 2: Send a GET request to the URL using urlopen and parse the HTML content using BeautifulSoup\n",
        "\n",
        "Step 3: Use the find_all method of the soup object to find all header tags (h1 to h6) on the webpage. Loop through the header_tags, print their text, and store the text in a list\n",
        "\n",
        "Step 4: Create an empty dictionary named word_frequency for word frequency analysis. Loop through each header in the header_list, split it into words, and update the word frequency dictionary\n",
        "\n",
        "Step 5: Sort the word_frequency dictionary by values in descending order using the sorted function and a lambda function as the key. Print the top 5 most frequent words along with their frequencies.\n",
        "\n",
        "\n",
        "---\n",
        "\n"
      ],
      "metadata": {
        "id": "Otq2jxDukBrw"
      }
    },
    {
      "cell_type": "code",
      "source": [
        "from urllib.request import urlopen\n",
        "from bs4 import BeautifulSoup\n",
        "\n",
        "webpage_url = 'https://en.wikipedia.org/wiki/Main_Page'\n",
        "\n",
        "response = urlopen(webpage_url)\n",
        "\n",
        "soup = BeautifulSoup(response, 'html.parser')\n",
        "\n",
        "header_tags = soup.find_all(['h1', 'h2', 'h3', 'h4', 'h5', 'h6'])\n",
        "\n",
        "print('List of header tags:')\n",
        "header_list = []\n",
        "for header in header_tags:\n",
        "    print(header.text)\n",
        "    header_list.append(header.text)\n",
        "word_frequency = {}\n",
        "for header in header_list:\n",
        "    words = header.split()\n",
        "    for word in words:\n",
        "        if word in word_frequency:\n",
        "            word_frequency[word] += 1\n",
        "        else:\n",
        "            word_frequency[word] = 1\n",
        "\n",
        "sorted_word_frequency = dict(sorted(word_frequency.items(), key=lambda item: item[1], reverse=True))\n",
        "\n",
        "print('\\nWord Frequency Analysis:')\n",
        "print('--------------------------')\n",
        "count = 0\n",
        "for word, freq in sorted_word_frequency.items():\n",
        "    print(f\"{word}: {freq}\")\n",
        "    count += 1\n",
        "    if count >= 5:\n",
        "        break\n",
        "\n"
      ],
      "metadata": {
        "colab": {
          "base_uri": "https://localhost:8080/"
        },
        "id": "HqvLqZ-cjtMj",
        "outputId": "db5c807b-3eb0-49d2-eb6b-6efc6683af31"
      },
      "execution_count": 2,
      "outputs": [
        {
          "output_type": "stream",
          "name": "stdout",
          "text": [
            "List of header tags:\n",
            "Main Page\n",
            "Welcome to Wikipedia\n",
            "From today's featured article\n",
            "Did you know ...\n",
            "In the news\n",
            "On this day\n",
            "From today's featured list\n",
            "Today's featured picture\n",
            "Other areas of Wikipedia\n",
            "Wikipedia's sister projects\n",
            "Wikipedia languages\n",
            "\n",
            "Word Frequency Analysis:\n",
            "--------------------------\n",
            "Wikipedia: 3\n",
            "featured: 3\n",
            "From: 2\n",
            "today's: 2\n",
            "Main: 1\n"
          ]
        }
      ]
    }
  ]
}